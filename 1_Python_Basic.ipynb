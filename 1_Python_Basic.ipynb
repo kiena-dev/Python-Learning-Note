{
  "nbformat": 4,
  "nbformat_minor": 0,
  "metadata": {
    "colab": {
      "provenance": [],
      "collapsed_sections": [
        "Gq2JKofEAkgU",
        "rIiRsKQXEZet",
        "MpnxYjH2EoZt",
        "wcyRPDnUGLVL",
        "r1L5sc4wLkiX",
        "h4Ln4QpIs-GB",
        "J5WblssQuJP3"
      ]
    },
    "kernelspec": {
      "name": "python3",
      "display_name": "Python 3"
    },
    "language_info": {
      "name": "python"
    }
  },
  "cells": [
    {
      "cell_type": "markdown",
      "source": [
        "# Catatan dari belajar Python\n",
        "**Author:** Kiena\n",
        "\n",
        "**Update Terakhir:** 16/07/2023\n",
        "\n",
        "**GitHub:** [Python Learning Note](https://github.com/kiena-dev/Python-Learning-Note)\n",
        "\n",
        "# Tentang\n",
        "---\n",
        "Notebook ini berisi dasar-dasar dari bahasa pemrograman Pyhon. Dibuat ulang dengan menggunakan bahasa indonesia untuk mempermudah penulis dalam mempelajari Python. Untuk menjalankan notebook ini, dapat menggunakan [Google Colaboratory](https://colab.research.google.com/) atau juga dapat menggunakan lokal environment menggunakan [Jupyter Notebook](https://jupyter-notebook.readthedocs.io/en/stable/)."
      ],
      "metadata": {
        "id": "JzqqQ0Lj6TKv"
      }
    },
    {
      "cell_type": "markdown",
      "source": [
        "# Python Dasar"
      ],
      "metadata": {
        "id": "S9bWyGYSJ03i"
      }
    },
    {
      "cell_type": "markdown",
      "source": [
        "## Hello World\n",
        "---\n",
        "Hal pertama yang umum dilakukan saat belajar pemrograman adalah menuliskan Hello World, tidak terkecuali pada python ini."
      ],
      "metadata": {
        "id": "Gq2JKofEAkgU"
      }
    },
    {
      "cell_type": "code",
      "execution_count": 4,
      "metadata": {
        "id": "qnp9YHn86P5z",
        "colab": {
          "base_uri": "https://localhost:8080/"
        },
        "outputId": "8a808e1b-784b-4c18-990e-39d0be5f2b1a"
      },
      "outputs": [
        {
          "output_type": "stream",
          "name": "stdout",
          "text": [
            "Hello, Python!\n",
            "Hello, Python!\n"
          ]
        }
      ],
      "source": [
        "# Jalankan ini untuk melihat hasil\n",
        "print('Hello World')\n",
        "# Menggunakan \"\"\n",
        "print(\"Hello World\")"
      ]
    },
    {
      "cell_type": "markdown",
      "source": [
        "## Check versi Python yang digunakan\n",
        "\n",
        "Tedapat dua versi python yang paling banyak digunakan yaitu versi 2 dan 3. Akan tetapi, versi 3 lebih modern dan digunakan saat ini. untuk mengecek versi yang digunakan, gunakan library *sys* dengan cara import terlebih dahulu"
      ],
      "metadata": {
        "id": "rIiRsKQXEZet"
      }
    },
    {
      "cell_type": "code",
      "source": [
        "# Mengecek versi python yang digunakan\n",
        "import sys\n",
        "print(sys.version)"
      ],
      "metadata": {
        "colab": {
          "base_uri": "https://localhost:8080/"
        },
        "id": "zDrqOVKyDGfP",
        "outputId": "3ee77aae-d16b-41ad-8d3a-f00ffc484260"
      },
      "execution_count": 5,
      "outputs": [
        {
          "output_type": "stream",
          "name": "stdout",
          "text": [
            "3.10.12 (main, Jun  7 2023, 12:45:35) [GCC 9.4.0]\n"
          ]
        }
      ]
    },
    {
      "cell_type": "markdown",
      "source": [
        "## Komentar pada Python\n",
        "---\n",
        "Komentar digunakan untuk memberitahu fungsi dari kode yang kita gunakan, hal ini akan memudahkan dalam memahami kode. komentar tidak akan muncul dalam output dan ini ditulis dengan #.\n"
      ],
      "metadata": {
        "id": "MpnxYjH2EoZt"
      }
    },
    {
      "cell_type": "code",
      "source": [
        "# Komentar pada python\n",
        "print('Hello, Python!') # ini akan menghasilkan output string\n",
        "# print('Hi'), ini tidak akan muncul pada output"
      ],
      "metadata": {
        "colab": {
          "base_uri": "https://localhost:8080/"
        },
        "id": "7QSbIEAqDkQD",
        "outputId": "464096e6-2850-4c6c-ad6d-fb9675e9905b"
      },
      "execution_count": 6,
      "outputs": [
        {
          "output_type": "stream",
          "name": "stdout",
          "text": [
            "Hello, Python!\n"
          ]
        }
      ]
    },
    {
      "cell_type": "markdown",
      "source": [
        "## Error pada Python\n",
        "---\n",
        "Saat kode yang kita tulis salah, Python akan memberikan output error untuk menunjukkan letak kesalahan kode.\n"
      ],
      "metadata": {
        "id": "wcyRPDnUGLVL"
      }
    },
    {
      "cell_type": "code",
      "source": [
        "# Print string and error to see the running order\n",
        "\n",
        "print(\"Ini akan diprint\")\n",
        "frint(\"Ini akan menghasilkan error\")\n",
        "print(\"Ini tidak akan di print karena kode diatas error\")"
      ],
      "metadata": {
        "id": "mN5o__ryGfVh"
      },
      "execution_count": null,
      "outputs": []
    },
    {
      "cell_type": "markdown",
      "source": [
        "### Latihan 1\n",
        "*   Tuliskan <code>Hello, world!</code>\n",
        "*   Tuliskan <code>Hello, world!</code> dengan komentar <code>Ini adalah komentar</code> dalam satu baris\n",
        "\n",
        "\n",
        "\n"
      ],
      "metadata": {
        "id": "S7oN2uTFKNIw"
      }
    },
    {
      "cell_type": "code",
      "source": [],
      "metadata": {
        "id": "VXjnAG_9K8XD"
      },
      "execution_count": null,
      "outputs": []
    },
    {
      "cell_type": "markdown",
      "source": [
        "<details><summary>Klik Untuk Solusi</summary>\n",
        "\n",
        "```python\n",
        "print(\"Hello, world!\")\n",
        "\n",
        "```\n",
        "\n",
        "</details>"
      ],
      "metadata": {
        "id": "QUgH80H2KVbl"
      }
    },
    {
      "cell_type": "code",
      "source": [],
      "metadata": {
        "id": "zSlFq50mLA4B"
      },
      "execution_count": null,
      "outputs": []
    },
    {
      "cell_type": "markdown",
      "source": [
        "<details><summary>Klik Untuk Solusi</summary>\n",
        "\n",
        "```python\n",
        "print('Hello, world!') # Ini adalah komentar\n",
        "\n",
        "```\n",
        "\n",
        "</details>"
      ],
      "metadata": {
        "id": "J_dh4LIALCLD"
      }
    },
    {
      "cell_type": "markdown",
      "source": [
        "## Tipe Data"
      ],
      "metadata": {
        "id": "r1L5sc4wLkiX"
      }
    },
    {
      "cell_type": "code",
      "source": [
        "# Integer\n",
        "18\n",
        "type(18)"
      ],
      "metadata": {
        "colab": {
          "base_uri": "https://localhost:8080/"
        },
        "id": "B2pwsRljpfx9",
        "outputId": "9d6e90c5-68ec-47c2-9d85-0c793523cf7b"
      },
      "execution_count": 1,
      "outputs": [
        {
          "output_type": "execute_result",
          "data": {
            "text/plain": [
              "int"
            ]
          },
          "metadata": {},
          "execution_count": 1
        }
      ]
    },
    {
      "cell_type": "code",
      "source": [
        "# Float\n",
        "3.14\n",
        "type(3.14)"
      ],
      "metadata": {
        "colab": {
          "base_uri": "https://localhost:8080/"
        },
        "id": "TvoHTPyaphoB",
        "outputId": "851b044b-6936-4607-b38c-c6a671cdc878"
      },
      "execution_count": 2,
      "outputs": [
        {
          "output_type": "execute_result",
          "data": {
            "text/plain": [
              "float"
            ]
          },
          "metadata": {},
          "execution_count": 2
        }
      ]
    },
    {
      "cell_type": "code",
      "source": [
        "# String\n",
        "\n",
        "\"Hello World!\"\n",
        "\n",
        "'Hello World!'\n",
        "\n",
        "type (\"Hello World!\")"
      ],
      "metadata": {
        "colab": {
          "base_uri": "https://localhost:8080/"
        },
        "id": "36zpqNVOpmC1",
        "outputId": "bda57f47-b8e9-40d8-f178-6ff52c9f578c"
      },
      "execution_count": 3,
      "outputs": [
        {
          "output_type": "execute_result",
          "data": {
            "text/plain": [
              "str"
            ]
          },
          "metadata": {},
          "execution_count": 3
        }
      ]
    },
    {
      "cell_type": "code",
      "source": [
        "# System settings about float type\n",
        "import sys\n",
        "sys.float_info"
      ],
      "metadata": {
        "colab": {
          "base_uri": "https://localhost:8080/"
        },
        "id": "b7ed1eGhp8M-",
        "outputId": "1eabacfc-194e-45ad-82b5-6ccf15721add"
      },
      "execution_count": 4,
      "outputs": [
        {
          "output_type": "execute_result",
          "data": {
            "text/plain": [
              "sys.float_info(max=1.7976931348623157e+308, max_exp=1024, max_10_exp=308, min=2.2250738585072014e-308, min_exp=-1021, min_10_exp=-307, dig=15, mant_dig=53, epsilon=2.220446049250313e-16, radix=2, rounds=1)"
            ]
          },
          "metadata": {},
          "execution_count": 4
        }
      ]
    },
    {
      "cell_type": "code",
      "source": [
        "# Boolean benar\n",
        "\n",
        "True"
      ],
      "metadata": {
        "colab": {
          "base_uri": "https://localhost:8080/"
        },
        "id": "93gKJ2tise4K",
        "outputId": "245953d2-cd2c-43df-a135-7d87bd2974b2"
      },
      "execution_count": 15,
      "outputs": [
        {
          "output_type": "execute_result",
          "data": {
            "text/plain": [
              "True"
            ]
          },
          "metadata": {},
          "execution_count": 15
        }
      ]
    },
    {
      "cell_type": "code",
      "source": [
        "# Boolean Salah\n",
        "\n",
        "False"
      ],
      "metadata": {
        "id": "dfQtsc18skos"
      },
      "execution_count": null,
      "outputs": []
    },
    {
      "cell_type": "code",
      "source": [
        "type(True)"
      ],
      "metadata": {
        "colab": {
          "base_uri": "https://localhost:8080/"
        },
        "id": "QfHh9qnJsuHV",
        "outputId": "5116eb3b-313e-4182-c5d3-c90203184990"
      },
      "execution_count": 16,
      "outputs": [
        {
          "output_type": "execute_result",
          "data": {
            "text/plain": [
              "bool"
            ]
          },
          "metadata": {},
          "execution_count": 16
        }
      ]
    },
    {
      "cell_type": "code",
      "source": [
        "type(False)"
      ],
      "metadata": {
        "colab": {
          "base_uri": "https://localhost:8080/"
        },
        "id": "XcGTndodsxnY",
        "outputId": "e07f1cc0-ef6a-47dd-82fa-e89a50b96108"
      },
      "execution_count": 17,
      "outputs": [
        {
          "output_type": "execute_result",
          "data": {
            "text/plain": [
              "bool"
            ]
          },
          "metadata": {},
          "execution_count": 17
        }
      ]
    },
    {
      "cell_type": "markdown",
      "source": [
        "### Convert tipe Data"
      ],
      "metadata": {
        "id": "5a2eeqprqAAB"
      }
    },
    {
      "cell_type": "markdown",
      "source": [
        "#### Konveri Dari Integer ke string, float"
      ],
      "metadata": {
        "id": "9wdTWT7_remb"
      }
    },
    {
      "cell_type": "code",
      "source": [
        "# Konversi INT ke Float\n",
        "float(2)"
      ],
      "metadata": {
        "colab": {
          "base_uri": "https://localhost:8080/"
        },
        "id": "O_h8hP4Bp_d8",
        "outputId": "a388c60f-7159-42ed-85bf-df3d61b0594c"
      },
      "execution_count": 6,
      "outputs": [
        {
          "output_type": "execute_result",
          "data": {
            "text/plain": [
              "float"
            ]
          },
          "metadata": {},
          "execution_count": 6
        }
      ]
    },
    {
      "cell_type": "code",
      "source": [
        "# integer ke string\n",
        "str(2)"
      ],
      "metadata": {
        "colab": {
          "base_uri": "https://localhost:8080/",
          "height": 35
        },
        "id": "sZk1UF2brSjs",
        "outputId": "63f4f343-83bb-4ae6-9713-f90c53feff32"
      },
      "execution_count": 13,
      "outputs": [
        {
          "output_type": "execute_result",
          "data": {
            "text/plain": [
              "'2'"
            ],
            "application/vnd.google.colaboratory.intrinsic+json": {
              "type": "string"
            }
          },
          "metadata": {},
          "execution_count": 13
        }
      ]
    },
    {
      "cell_type": "code",
      "source": [
        "# Konversi dan cek tipe data\n",
        "type(float(2))"
      ],
      "metadata": {
        "colab": {
          "base_uri": "https://localhost:8080/"
        },
        "id": "Man9tRjEqfHJ",
        "outputId": "6178ca3a-a602-4a4e-f6a7-50fdaa747363"
      },
      "execution_count": 7,
      "outputs": [
        {
          "output_type": "execute_result",
          "data": {
            "text/plain": [
              "float"
            ]
          },
          "metadata": {},
          "execution_count": 7
        }
      ]
    },
    {
      "cell_type": "markdown",
      "source": [
        "#### Konveri Dari Float ke string, integer"
      ],
      "metadata": {
        "id": "DaUvL0hnrtP9"
      }
    },
    {
      "cell_type": "code",
      "source": [
        "# Konversi float ke integer\n",
        "int(1.2)"
      ],
      "metadata": {
        "colab": {
          "base_uri": "https://localhost:8080/"
        },
        "id": "nXIT_iAXqiHu",
        "outputId": "817bec1a-2970-4a42-f33a-926bca891b26"
      },
      "execution_count": 8,
      "outputs": [
        {
          "output_type": "execute_result",
          "data": {
            "text/plain": [
              "1"
            ]
          },
          "metadata": {},
          "execution_count": 8
        }
      ]
    },
    {
      "cell_type": "code",
      "source": [
        "# Float ke string\n",
        "str(1.2)"
      ],
      "metadata": {
        "colab": {
          "base_uri": "https://localhost:8080/",
          "height": 35
        },
        "id": "oEN3LGrvr0O9",
        "outputId": "49c01204-c393-4003-9bd2-4caa140f29f4"
      },
      "execution_count": 14,
      "outputs": [
        {
          "output_type": "execute_result",
          "data": {
            "text/plain": [
              "'1.2'"
            ],
            "application/vnd.google.colaboratory.intrinsic+json": {
              "type": "string"
            }
          },
          "metadata": {},
          "execution_count": 14
        }
      ]
    },
    {
      "cell_type": "markdown",
      "source": [
        "#### Konveri Dari String ke float, integer"
      ],
      "metadata": {
        "id": "vJ_j2fIxr-kF"
      }
    },
    {
      "cell_type": "code",
      "source": [
        "# Konversi string ke integer\n",
        "int('2')"
      ],
      "metadata": {
        "colab": {
          "base_uri": "https://localhost:8080/"
        },
        "id": "a91vWLgLqwZL",
        "outputId": "ae012195-869d-4fbc-f70b-05dd15fab6d5"
      },
      "execution_count": 9,
      "outputs": [
        {
          "output_type": "execute_result",
          "data": {
            "text/plain": [
              "2"
            ]
          },
          "metadata": {},
          "execution_count": 9
        }
      ]
    },
    {
      "cell_type": "code",
      "source": [
        "# Konversi ini akan error karena string tidak berisi integer\n",
        "int('1 atau 2 orang')"
      ],
      "metadata": {
        "id": "79eHRPSBq9pL"
      },
      "execution_count": null,
      "outputs": []
    },
    {
      "cell_type": "code",
      "source": [
        "# String ke float\n",
        "float('4.2')"
      ],
      "metadata": {
        "colab": {
          "base_uri": "https://localhost:8080/"
        },
        "id": "-ZpE1YiurHNA",
        "outputId": "09abb5a9-5b32-4bc1-a97c-a45541a1e58b"
      },
      "execution_count": 12,
      "outputs": [
        {
          "output_type": "execute_result",
          "data": {
            "text/plain": [
              "4.2"
            ]
          },
          "metadata": {},
          "execution_count": 12
        }
      ]
    },
    {
      "cell_type": "markdown",
      "source": [
        "#### Konveri Boolean"
      ],
      "metadata": {
        "id": "h4Ln4QpIs-GB"
      }
    },
    {
      "cell_type": "code",
      "source": [
        "# Boolean True ke integer\n",
        "int(True)"
      ],
      "metadata": {
        "colab": {
          "base_uri": "https://localhost:8080/"
        },
        "id": "bT4JL_wXtBnv",
        "outputId": "f02afadc-4d34-4e79-b216-f62eb9fd93a5"
      },
      "execution_count": 18,
      "outputs": [
        {
          "output_type": "execute_result",
          "data": {
            "text/plain": [
              "1"
            ]
          },
          "metadata": {},
          "execution_count": 18
        }
      ]
    },
    {
      "cell_type": "code",
      "source": [
        "# Boolean False ke integer\n",
        "int(False)"
      ],
      "metadata": {
        "colab": {
          "base_uri": "https://localhost:8080/"
        },
        "id": "2JFKu1V7tHFm",
        "outputId": "42132708-ec21-458c-9288-6723a72a0c3a"
      },
      "execution_count": 19,
      "outputs": [
        {
          "output_type": "execute_result",
          "data": {
            "text/plain": [
              "0"
            ]
          },
          "metadata": {},
          "execution_count": 19
        }
      ]
    },
    {
      "cell_type": "code",
      "source": [
        "# Boolean True ke float\n",
        "float(True)"
      ],
      "metadata": {
        "colab": {
          "base_uri": "https://localhost:8080/"
        },
        "id": "UJJUXd6ltKtB",
        "outputId": "b97af32f-637f-42ab-8322-a6bccb12c705"
      },
      "execution_count": 21,
      "outputs": [
        {
          "output_type": "execute_result",
          "data": {
            "text/plain": [
              "1.0"
            ]
          },
          "metadata": {},
          "execution_count": 21
        }
      ]
    },
    {
      "cell_type": "code",
      "source": [
        "# Boolean False ke float\n",
        "float(False)"
      ],
      "metadata": {
        "colab": {
          "base_uri": "https://localhost:8080/"
        },
        "id": "LymwjLE5tOU7",
        "outputId": "7ac777e6-8f80-4eb1-e8bd-8337faaf0d16"
      },
      "execution_count": 22,
      "outputs": [
        {
          "output_type": "execute_result",
          "data": {
            "text/plain": [
              "0.0"
            ]
          },
          "metadata": {},
          "execution_count": 22
        }
      ]
    },
    {
      "cell_type": "markdown",
      "source": [
        "#### Contoh soal dan jawaban konversi data"
      ],
      "metadata": {
        "id": "6OmMPEu2sFeX"
      }
    },
    {
      "cell_type": "code",
      "source": [
        "# Tipe data dari 6/2 ?\n",
        "type(6/2) # float, karena / akan menghasilkan float"
      ],
      "metadata": {
        "colab": {
          "base_uri": "https://localhost:8080/"
        },
        "id": "0tUQIiq4sSXW",
        "outputId": "d707c669-bd09-46f1-d07b-ade1e94c0fc4"
      },
      "execution_count": 24,
      "outputs": [
        {
          "output_type": "execute_result",
          "data": {
            "text/plain": [
              "float"
            ]
          },
          "metadata": {},
          "execution_count": 24
        }
      ]
    },
    {
      "cell_type": "code",
      "source": [
        "# Tipe data dari 6//2 ?\n",
        "type(6//2) # int, karena // adalah pembagian int"
      ],
      "metadata": {
        "colab": {
          "base_uri": "https://localhost:8080/"
        },
        "id": "TcIJwYXGt5Wp",
        "outputId": "28ccd70c-a777-4891-afc3-acec78941dc5"
      },
      "execution_count": 25,
      "outputs": [
        {
          "output_type": "execute_result",
          "data": {
            "text/plain": [
              "int"
            ]
          },
          "metadata": {},
          "execution_count": 25
        }
      ]
    },
    {
      "cell_type": "markdown",
      "source": [
        "## Ekspresi dan Variabel"
      ],
      "metadata": {
        "id": "J5WblssQuJP3"
      }
    },
    {
      "cell_type": "code",
      "source": [
        "# Ekspresi Penjumlahan\n",
        "40 + 22 +76 + 100"
      ],
      "metadata": {
        "colab": {
          "base_uri": "https://localhost:8080/"
        },
        "id": "6ifeC2fZuNnf",
        "outputId": "887e94d3-1283-43cf-b1e8-7ea111274148"
      },
      "execution_count": 26,
      "outputs": [
        {
          "output_type": "execute_result",
          "data": {
            "text/plain": [
              "238"
            ]
          },
          "metadata": {},
          "execution_count": 26
        }
      ]
    },
    {
      "cell_type": "code",
      "source": [
        "# Ekspresi Pengurangan (Subtraction)\n",
        "40-22"
      ],
      "metadata": {
        "colab": {
          "base_uri": "https://localhost:8080/"
        },
        "id": "xqzHfnUiuYz5",
        "outputId": "55570217-3059-4773-caaf-9f6df23f3e81"
      },
      "execution_count": 27,
      "outputs": [
        {
          "output_type": "execute_result",
          "data": {
            "text/plain": [
              "18"
            ]
          },
          "metadata": {},
          "execution_count": 27
        }
      ]
    },
    {
      "cell_type": "code",
      "source": [
        "# Ekspresi perkalian\n",
        "20 * 10"
      ],
      "metadata": {
        "colab": {
          "base_uri": "https://localhost:8080/"
        },
        "id": "J7oEdRd3uer0",
        "outputId": "20f01034-ca2f-47ca-dda4-b5aa2adffda7"
      },
      "execution_count": 28,
      "outputs": [
        {
          "output_type": "execute_result",
          "data": {
            "text/plain": [
              "200"
            ]
          },
          "metadata": {},
          "execution_count": 28
        }
      ]
    },
    {
      "cell_type": "code",
      "source": [
        "# Pembagian float\n",
        "25 / 5"
      ],
      "metadata": {
        "colab": {
          "base_uri": "https://localhost:8080/"
        },
        "id": "atiAzUBeukze",
        "outputId": "54c43506-b26b-4ac4-85d6-22022c2f8e36"
      },
      "execution_count": 29,
      "outputs": [
        {
          "output_type": "execute_result",
          "data": {
            "text/plain": [
              "5.0"
            ]
          },
          "metadata": {},
          "execution_count": 29
        }
      ]
    },
    {
      "cell_type": "code",
      "source": [
        "# Pembagian integer\n",
        "25 // 5"
      ],
      "metadata": {
        "colab": {
          "base_uri": "https://localhost:8080/"
        },
        "id": "M0zN4qAxur1D",
        "outputId": "7fbd18ae-d84e-4f87-a228-6716c8197471"
      },
      "execution_count": 31,
      "outputs": [
        {
          "output_type": "execute_result",
          "data": {
            "text/plain": [
              "5"
            ]
          },
          "metadata": {},
          "execution_count": 31
        }
      ]
    },
    {
      "cell_type": "code",
      "source": [
        "# Operasi matematika pada python mendahulukan perkalian dan pembagian\n",
        "10 * 2 + 20"
      ],
      "metadata": {
        "colab": {
          "base_uri": "https://localhost:8080/"
        },
        "id": "1ChX7AkMvyLA",
        "outputId": "f2b9f832-b10c-4de5-8b2b-1e73acbb9519"
      },
      "execution_count": 39,
      "outputs": [
        {
          "output_type": "execute_result",
          "data": {
            "text/plain": [
              "40"
            ]
          },
          "metadata": {},
          "execution_count": 39
        }
      ]
    },
    {
      "cell_type": "code",
      "source": [
        "# Dalam kurung didahulukan\n",
        "10 * (2 + 20)"
      ],
      "metadata": {
        "colab": {
          "base_uri": "https://localhost:8080/"
        },
        "id": "QbseIaRDv7Kp",
        "outputId": "1bf3dd4d-7779-47a0-f6ba-1f1880d5cc69"
      },
      "execution_count": 40,
      "outputs": [
        {
          "output_type": "execute_result",
          "data": {
            "text/plain": [
              "220"
            ]
          },
          "metadata": {},
          "execution_count": 40
        }
      ]
    },
    {
      "cell_type": "markdown",
      "source": [
        "### Contoh soal dan jawaban Ekspresi"
      ],
      "metadata": {
        "id": "SqqGpLG-u41r"
      }
    },
    {
      "cell_type": "code",
      "source": [
        "# Berapa jam dalam 160 menit\n",
        "xFloat = 160 / 60\n",
        "yInt = 160 // 60\n",
        "\n",
        "print(str(xFloat) + \" jam\")\n",
        "print(yInt)"
      ],
      "metadata": {
        "colab": {
          "base_uri": "https://localhost:8080/"
        },
        "id": "vO_unN1_u8Gp",
        "outputId": "f535a295-8a32-459a-b616-24eb74bc324b"
      },
      "execution_count": 38,
      "outputs": [
        {
          "output_type": "stream",
          "name": "stdout",
          "text": [
            "2.6666666666666665 jam\n",
            "2\n"
          ]
        }
      ]
    },
    {
      "cell_type": "markdown",
      "source": [
        "### Variabel\n",
        "\n",
        "Variabel digunakan untuk menyimpan data sementara"
      ],
      "metadata": {
        "id": "lcOpbBdUwPMb"
      }
    },
    {
      "cell_type": "code",
      "source": [
        "# Simpan nilai dalam variabel x\n",
        "x = 43 + 60 + 16 + 41\n",
        "\n",
        "# Print variabel x\n",
        "x"
      ],
      "metadata": {
        "colab": {
          "base_uri": "https://localhost:8080/"
        },
        "id": "U-8LA4NlwYWd",
        "outputId": "008524e6-4e57-418f-8748-b1b89b70619d"
      },
      "execution_count": 42,
      "outputs": [
        {
          "output_type": "execute_result",
          "data": {
            "text/plain": [
              "160"
            ]
          },
          "metadata": {},
          "execution_count": 42
        }
      ]
    },
    {
      "cell_type": "code",
      "source": [
        "# Ambil hasil akhir dari variabel x, lalu gunakan untuk perhitungan selanjutnya\n",
        "y = x / 60\n",
        "y"
      ],
      "metadata": {
        "colab": {
          "base_uri": "https://localhost:8080/"
        },
        "id": "UC9RJ1U4wm3S",
        "outputId": "b8c92f01-c16f-4a60-a378-0c6429555183"
      },
      "execution_count": 43,
      "outputs": [
        {
          "output_type": "execute_result",
          "data": {
            "text/plain": [
              "2.6666666666666665"
            ]
          },
          "metadata": {},
          "execution_count": 43
        }
      ]
    },
    {
      "cell_type": "code",
      "source": [
        "# Overwrite nilai var x\n",
        "x = x / 60\n",
        "x"
      ],
      "metadata": {
        "colab": {
          "base_uri": "https://localhost:8080/"
        },
        "id": "GkgSZVzEw1CF",
        "outputId": "7b20a441-1afd-4074-e57e-1afdab0ebf59"
      },
      "execution_count": 44,
      "outputs": [
        {
          "output_type": "execute_result",
          "data": {
            "text/plain": [
              "2.6666666666666665"
            ]
          },
          "metadata": {},
          "execution_count": 44
        }
      ]
    },
    {
      "cell_type": "code",
      "source": [
        "# Beri nama pada variabel, biasa dengan _ atau huruf kapital\n",
        "total_min = 43 + 42 + 57\n",
        "total_min"
      ],
      "metadata": {
        "colab": {
          "base_uri": "https://localhost:8080/"
        },
        "id": "QmQFm-Gkw5vW",
        "outputId": "83360c9a-7210-4f5e-cc2e-596344eabfe2"
      },
      "execution_count": 45,
      "outputs": [
        {
          "output_type": "execute_result",
          "data": {
            "text/plain": [
              "142"
            ]
          },
          "metadata": {},
          "execution_count": 45
        }
      ]
    },
    {
      "cell_type": "code",
      "source": [
        "total_hours = total_min / 60\n",
        "total_hours"
      ],
      "metadata": {
        "colab": {
          "base_uri": "https://localhost:8080/"
        },
        "id": "6iMCo0P4xEAq",
        "outputId": "0c3d69a9-a7df-4042-e07a-51857e340b65"
      },
      "execution_count": 47,
      "outputs": [
        {
          "output_type": "execute_result",
          "data": {
            "text/plain": [
              "2.3666666666666667"
            ]
          },
          "metadata": {},
          "execution_count": 47
        }
      ]
    },
    {
      "cell_type": "markdown",
      "source": [
        "### Contoh soal dan jawaban Variabel"
      ],
      "metadata": {
        "id": "1_aZez6-xSVD"
      }
    },
    {
      "cell_type": "code",
      "source": [
        "# Nilai value variabel x\n",
        "x = 3 + 2 * 2\n",
        "x"
      ],
      "metadata": {
        "colab": {
          "base_uri": "https://localhost:8080/"
        },
        "id": "1MmNDfE_xPvb",
        "outputId": "79c0bccd-890d-4897-a700-17ce11a3b9b4"
      },
      "execution_count": 48,
      "outputs": [
        {
          "output_type": "execute_result",
          "data": {
            "text/plain": [
              "7"
            ]
          },
          "metadata": {},
          "execution_count": 48
        }
      ]
    },
    {
      "cell_type": "code",
      "source": [
        "# Nilai variabel y\n",
        "y = (3 + 2) * 2\n",
        "y"
      ],
      "metadata": {
        "colab": {
          "base_uri": "https://localhost:8080/"
        },
        "id": "-j9H4AyUxf2c",
        "outputId": "d8e739d8-7c6e-4bf1-fecc-9cff37859c53"
      },
      "execution_count": 50,
      "outputs": [
        {
          "output_type": "execute_result",
          "data": {
            "text/plain": [
              "10"
            ]
          },
          "metadata": {},
          "execution_count": 50
        }
      ]
    },
    {
      "cell_type": "code",
      "source": [
        "# Nilai Z dari x+y\n",
        "z = x + y\n",
        "z"
      ],
      "metadata": {
        "colab": {
          "base_uri": "https://localhost:8080/"
        },
        "id": "xA0MJFFXxkND",
        "outputId": "dffc0090-b2fe-415e-c6be-76915b16438d"
      },
      "execution_count": 51,
      "outputs": [
        {
          "output_type": "execute_result",
          "data": {
            "text/plain": [
              "17"
            ]
          },
          "metadata": {},
          "execution_count": 51
        }
      ]
    },
    {
      "cell_type": "markdown",
      "source": [
        "## Operasi String\n",
        "\n",
        "<h3>Tujuan Akhir</h3>\n",
        "\n",
        "1.   *melakukan operasi string*\n",
        "2.   *Manipulasi string dengan indeks dan sekuens*\n",
        "\n",
        "\n",
        "\n",
        "\n"
      ],
      "metadata": {
        "id": "epaH5qqHy51w"
      }
    },
    {
      "cell_type": "markdown",
      "source": [
        "### Macam Macam Operasi String"
      ],
      "metadata": {
        "id": "bJF-i_uF1GsM"
      }
    },
    {
      "cell_type": "code",
      "source": [
        "# Tanda kutip untuk string\n",
        "\n",
        "\"Kiena Motor\""
      ],
      "metadata": {
        "colab": {
          "base_uri": "https://localhost:8080/",
          "height": 35
        },
        "id": "xLI5NyyzzAPc",
        "outputId": "60a40e1f-3a63-4825-8c91-eceb329191a3"
      },
      "execution_count": 52,
      "outputs": [
        {
          "output_type": "execute_result",
          "data": {
            "text/plain": [
              "'Kiena Motor'"
            ],
            "application/vnd.google.colaboratory.intrinsic+json": {
              "type": "string"
            }
          },
          "metadata": {},
          "execution_count": 52
        }
      ]
    },
    {
      "cell_type": "code",
      "source": [
        "# Tanda kutip tunggal juga string\n",
        "\n",
        "'Kiena Motor'"
      ],
      "metadata": {
        "colab": {
          "base_uri": "https://localhost:8080/",
          "height": 35
        },
        "id": "1rJEIiy70Kty",
        "outputId": "3d8b15e2-d4a4-4bc6-fadd-1d7018d582fa"
      },
      "execution_count": 53,
      "outputs": [
        {
          "output_type": "execute_result",
          "data": {
            "text/plain": [
              "'Kiena Motor'"
            ],
            "application/vnd.google.colaboratory.intrinsic+json": {
              "type": "string"
            }
          },
          "metadata": {},
          "execution_count": 53
        }
      ]
    },
    {
      "cell_type": "code",
      "source": [
        "# Digit dan spasi dalam string\n",
        "\n",
        "'1 2 3 4 5 6 '"
      ],
      "metadata": {
        "colab": {
          "base_uri": "https://localhost:8080/",
          "height": 35
        },
        "id": "99Gydqr-0TIG",
        "outputId": "5270cd41-05e1-4d6d-ee2d-5f9f97f78f80"
      },
      "execution_count": 54,
      "outputs": [
        {
          "output_type": "execute_result",
          "data": {
            "text/plain": [
              "'1 2 3 4 5 6 '"
            ],
            "application/vnd.google.colaboratory.intrinsic+json": {
              "type": "string"
            }
          },
          "metadata": {},
          "execution_count": 54
        }
      ]
    },
    {
      "cell_type": "code",
      "source": [
        "# Karakter khusus dalam string\n",
        "\n",
        "'@#2_#]&*^%$'"
      ],
      "metadata": {
        "id": "pcK-bO2d0ZUJ"
      },
      "execution_count": null,
      "outputs": []
    },
    {
      "cell_type": "code",
      "source": [
        "# Mencetak string\n",
        "\n",
        "print(\"Kiena!\")"
      ],
      "metadata": {
        "colab": {
          "base_uri": "https://localhost:8080/"
        },
        "id": "y4u7S3JT0cus",
        "outputId": "b6778980-193c-4a68-bc13-8579b9a34dc0"
      },
      "execution_count": 55,
      "outputs": [
        {
          "output_type": "stream",
          "name": "stdout",
          "text": [
            "Kiena!\n"
          ]
        }
      ]
    },
    {
      "cell_type": "code",
      "source": [
        "# Menetapkan string ke variabel\n",
        "\n",
        "name = \"Kiena Motor\"\n",
        "name"
      ],
      "metadata": {
        "colab": {
          "base_uri": "https://localhost:8080/",
          "height": 35
        },
        "id": "q1CWIZr10igT",
        "outputId": "c21e8a23-ab1b-4a45-b8a7-ee9356497d97"
      },
      "execution_count": 57,
      "outputs": [
        {
          "output_type": "execute_result",
          "data": {
            "text/plain": [
              "'Kiena Motor'"
            ],
            "application/vnd.google.colaboratory.intrinsic+json": {
              "type": "string"
            }
          },
          "metadata": {},
          "execution_count": 57
        }
      ]
    },
    {
      "cell_type": "markdown",
      "source": [
        "### Manipulasi string dengan indeks, mengambil nilai dalam string"
      ],
      "metadata": {
        "id": "E_qs_JpP1LTk"
      }
    },
    {
      "cell_type": "code",
      "source": [
        "# Mencetak elemen pertama dalam string menggunakan indeks\n",
        "\n",
        "print(name[0])"
      ],
      "metadata": {
        "colab": {
          "base_uri": "https://localhost:8080/"
        },
        "id": "uzvpFw_X0vu6",
        "outputId": "6557da0a-4640-4bc6-fca9-b89032a96c72"
      },
      "execution_count": 58,
      "outputs": [
        {
          "output_type": "stream",
          "name": "stdout",
          "text": [
            "K\n"
          ]
        }
      ]
    },
    {
      "cell_type": "code",
      "source": [
        "# Mencetak elemen pada indeks 6 dalam string dengan indeks\n",
        "\n",
        "print(name[6])"
      ],
      "metadata": {
        "colab": {
          "base_uri": "https://localhost:8080/"
        },
        "id": "sq6G9wTS0zKM",
        "outputId": "73010f71-3d17-4562-d144-83697a3f7050"
      },
      "execution_count": 59,
      "outputs": [
        {
          "output_type": "stream",
          "name": "stdout",
          "text": [
            "M\n"
          ]
        }
      ]
    },
    {
      "cell_type": "code",
      "source": [
        "# Mencetak elemen pada indeks ke-10 dalam string dengan indeks\n",
        "\n",
        "print(name[10])"
      ],
      "metadata": {
        "colab": {
          "base_uri": "https://localhost:8080/"
        },
        "id": "MsuTElxL06r_",
        "outputId": "c6f5df9b-376f-4f85-e522-8adb99ba3a4d"
      },
      "execution_count": 67,
      "outputs": [
        {
          "output_type": "stream",
          "name": "stdout",
          "text": [
            "r\n"
          ]
        }
      ]
    },
    {
      "cell_type": "markdown",
      "source": [
        "### Indeks Negatif"
      ],
      "metadata": {
        "id": "nJD6-AlF1VNR"
      }
    },
    {
      "cell_type": "code",
      "source": [
        "# Mencetak elemen terakhir dalam string\n",
        "print(name[-1])"
      ],
      "metadata": {
        "colab": {
          "base_uri": "https://localhost:8080/"
        },
        "id": "T6UoCToG1eYR",
        "outputId": "1808e193-fc23-4f67-9630-36635ad7023c"
      },
      "execution_count": 64,
      "outputs": [
        {
          "output_type": "stream",
          "name": "stdout",
          "text": [
            "r\n"
          ]
        }
      ]
    },
    {
      "cell_type": "code",
      "source": [
        "# Mencetak elemen pertama dalam string\n",
        "\n",
        "print(name[-11])"
      ],
      "metadata": {
        "colab": {
          "base_uri": "https://localhost:8080/"
        },
        "id": "PxVLOtQM1lh-",
        "outputId": "4438871e-a416-4f51-b5b0-cb9dc5cd6f20"
      },
      "execution_count": 66,
      "outputs": [
        {
          "output_type": "stream",
          "name": "stdout",
          "text": [
            "K\n"
          ]
        }
      ]
    },
    {
      "cell_type": "code",
      "source": [
        "# Menemukan panjang sebuah string\n",
        "\n",
        "len(\"Kiena Motor\")"
      ],
      "metadata": {
        "colab": {
          "base_uri": "https://localhost:8080/"
        },
        "id": "bZ3VM_or1vHO",
        "outputId": "65948f31-4c29-4021-a8b7-bb1055bc5675"
      },
      "execution_count": 68,
      "outputs": [
        {
          "output_type": "execute_result",
          "data": {
            "text/plain": [
              "11"
            ]
          },
          "metadata": {},
          "execution_count": 68
        }
      ]
    },
    {
      "cell_type": "markdown",
      "source": [
        "### Slicing (Irisan)\n",
        "\n",
        "Kita dapat memperoleh beberapa karakter dari sebuah string dengan menggunakan slicing, kita dapat memperoleh elemen ke-0 sampai ke-4 dan ke-6 sampai ke-11:"
      ],
      "metadata": {
        "id": "R-FVZarK12QT"
      }
    },
    {
      "cell_type": "code",
      "source": [
        "# Ambil irisan pada nama variabel dengan hanya indeks 0 sampai indeks 5\n",
        "\n",
        "name[0:5]"
      ],
      "metadata": {
        "colab": {
          "base_uri": "https://localhost:8080/",
          "height": 35
        },
        "id": "MRP58na72Fkz",
        "outputId": "b0598b3d-5548-4540-a6c9-fe5d13b76df1"
      },
      "execution_count": 74,
      "outputs": [
        {
          "output_type": "execute_result",
          "data": {
            "text/plain": [
              "'Kiena'"
            ],
            "application/vnd.google.colaboratory.intrinsic+json": {
              "type": "string"
            }
          },
          "metadata": {},
          "execution_count": 74
        }
      ]
    },
    {
      "cell_type": "code",
      "source": [
        "# Ambil irisan pada nama variabel dengan hanya indeks 6 sampai indeks 11\n",
        "\n",
        "name[6:11]"
      ],
      "metadata": {
        "colab": {
          "base_uri": "https://localhost:8080/",
          "height": 35
        },
        "id": "BFOK7jB12PXH",
        "outputId": "4069805a-f1f6-4775-f8b4-cab179108c90"
      },
      "execution_count": 73,
      "outputs": [
        {
          "output_type": "execute_result",
          "data": {
            "text/plain": [
              "'Motor'"
            ],
            "application/vnd.google.colaboratory.intrinsic+json": {
              "type": "string"
            }
          },
          "metadata": {},
          "execution_count": 73
        }
      ]
    },
    {
      "cell_type": "markdown",
      "source": [
        "### Stride (Langkahkan kaki)\n",
        "\n",
        "Kita juga dapat memasukkan nilai stride sebagai berikut, dengan '2' menunjukkan bahwa kita memilih setiap variabel kedua:"
      ],
      "metadata": {
        "id": "KBqGYJsL2lOi"
      }
    },
    {
      "cell_type": "code",
      "source": [
        "# Dapatkan setiap elemen kedua. Elemen-elemen pada indeks 1, 3, 5 ...\n",
        "\n",
        "name[::2]"
      ],
      "metadata": {
        "colab": {
          "base_uri": "https://localhost:8080/",
          "height": 35
        },
        "id": "li5vNI6K2ith",
        "outputId": "56ddfe00-3f4e-42d8-8148-59712ab4209e"
      },
      "execution_count": 75,
      "outputs": [
        {
          "output_type": "execute_result",
          "data": {
            "text/plain": [
              "'KeaMtr'"
            ],
            "application/vnd.google.colaboratory.intrinsic+json": {
              "type": "string"
            }
          },
          "metadata": {},
          "execution_count": 75
        }
      ]
    },
    {
      "cell_type": "code",
      "source": [
        "# Dapatkan setiap elemen kedua dalam rentang dari indeks 0 hingga indeks 4\n",
        "\n",
        "name[0:5:2]"
      ],
      "metadata": {
        "colab": {
          "base_uri": "https://localhost:8080/",
          "height": 35
        },
        "id": "xh30Jow129lI",
        "outputId": "c1daefba-8a7b-48bf-c6c7-2aff38e499d3"
      },
      "execution_count": 76,
      "outputs": [
        {
          "output_type": "execute_result",
          "data": {
            "text/plain": [
              "'Kea'"
            ],
            "application/vnd.google.colaboratory.intrinsic+json": {
              "type": "string"
            }
          },
          "metadata": {},
          "execution_count": 76
        }
      ]
    },
    {
      "cell_type": "markdown",
      "source": [
        "### String Gabungan (Concate)"
      ],
      "metadata": {
        "id": "28bFxNTU3IFa"
      }
    },
    {
      "cell_type": "code",
      "source": [
        "# Menggabungkan dua buah string\n",
        "\n",
        "pernyataan = name + \" adalah yang terbaik\"\n",
        "pernyataan"
      ],
      "metadata": {
        "colab": {
          "base_uri": "https://localhost:8080/",
          "height": 35
        },
        "id": "qvf9GcMN3MPN",
        "outputId": "23f61e64-44f7-4d75-8054-a83c470bce0c"
      },
      "execution_count": 78,
      "outputs": [
        {
          "output_type": "execute_result",
          "data": {
            "text/plain": [
              "'Kiena Motor adalah yang terbaik'"
            ],
            "application/vnd.google.colaboratory.intrinsic+json": {
              "type": "string"
            }
          },
          "metadata": {},
          "execution_count": 78
        }
      ]
    },
    {
      "cell_type": "code",
      "source": [
        "# Mencetak string sebanyak 3 kali\n",
        "\n",
        "3 * \" Kiena Motor\""
      ],
      "metadata": {
        "colab": {
          "base_uri": "https://localhost:8080/",
          "height": 35
        },
        "id": "uUIMhtYh3YEx",
        "outputId": "2082703f-c9ad-41e8-dbeb-f23a2f2bd580"
      },
      "execution_count": 80,
      "outputs": [
        {
          "output_type": "execute_result",
          "data": {
            "text/plain": [
              "' Kiena Motor Kiena Motor Kiena Motor'"
            ],
            "application/vnd.google.colaboratory.intrinsic+json": {
              "type": "string"
            }
          },
          "metadata": {},
          "execution_count": 80
        }
      ]
    },
    {
      "cell_type": "code",
      "source": [
        "# Gabungkan strings\n",
        "\n",
        "name = \"Kiena Motor\"\n",
        "name = name + \" adalah yang terbaik\"\n",
        "name"
      ],
      "metadata": {
        "colab": {
          "base_uri": "https://localhost:8080/",
          "height": 35
        },
        "id": "WztlpGnH3fr_",
        "outputId": "bfd773ff-5ccb-4dd2-fd3c-0b84d27d1755"
      },
      "execution_count": 82,
      "outputs": [
        {
          "output_type": "execute_result",
          "data": {
            "text/plain": [
              "'Kiena Motor adalah yang terbaik'"
            ],
            "application/vnd.google.colaboratory.intrinsic+json": {
              "type": "string"
            }
          },
          "metadata": {},
          "execution_count": 82
        }
      ]
    },
    {
      "cell_type": "markdown",
      "source": [
        "### Urutan Pelarian (Escape Sequences)"
      ],
      "metadata": {
        "id": "xZmxncAN3uUW"
      }
    },
    {
      "cell_type": "code",
      "source": [
        "# Urutan baris baru\n",
        "\n",
        "print(\" Kiena Motor \\n adalah yang terbaik\" )"
      ],
      "metadata": {
        "colab": {
          "base_uri": "https://localhost:8080/"
        },
        "id": "LfrClM2A3l0V",
        "outputId": "8b5667b8-d15d-4572-b7ae-09e63ed146b7"
      },
      "execution_count": 83,
      "outputs": [
        {
          "output_type": "stream",
          "name": "stdout",
          "text": [
            " Kiena Motor \n",
            " adalah yang terbaik\n"
          ]
        }
      ]
    },
    {
      "cell_type": "code",
      "source": [
        "# Urutan pelarian tab\n",
        "\n",
        "print(\" Kiena Motor \\t adalah yang terbaik\" )"
      ],
      "metadata": {
        "colab": {
          "base_uri": "https://localhost:8080/"
        },
        "id": "B0X4luqH3369",
        "outputId": "04bf596c-42fa-4cfe-bcc1-401cb7de14df"
      },
      "execution_count": 84,
      "outputs": [
        {
          "output_type": "stream",
          "name": "stdout",
          "text": [
            " Kiena Motor \t adalah yang terbaik\n"
          ]
        }
      ]
    },
    {
      "cell_type": "code",
      "source": [
        "# Menyertakan garis miring belakang dalam string\n",
        "\n",
        "print(\" Kiena Motor \\\\ adalah yang terbaik\" )"
      ],
      "metadata": {
        "colab": {
          "base_uri": "https://localhost:8080/"
        },
        "id": "1glQaSTZ3_oi",
        "outputId": "158d64e1-b4c9-4d95-f3f7-3bd18acde69d"
      },
      "execution_count": 85,
      "outputs": [
        {
          "output_type": "stream",
          "name": "stdout",
          "text": [
            " Kiena Motor \\ adalah yang terbaik\n"
          ]
        }
      ]
    },
    {
      "cell_type": "code",
      "source": [
        "# r akan memberi tahu python bahwa string akan ditampilkan sebagai string mentah\n",
        "\n",
        "print(r\"Kiena Motor \\ adalah yang terbaik\")"
      ],
      "metadata": {
        "colab": {
          "base_uri": "https://localhost:8080/"
        },
        "id": "AJ6Le-Vg4CGA",
        "outputId": "3a1f6b1a-217f-4c21-c061-861e042da1ec"
      },
      "execution_count": 87,
      "outputs": [
        {
          "output_type": "stream",
          "name": "stdout",
          "text": [
            "Kiena Motor \\ adalah yang terbaik\n"
          ]
        }
      ]
    },
    {
      "cell_type": "markdown",
      "source": [
        "### String Operations\n",
        "\n",
        "Ada banyak metode operasi string dalam Python yang dapat digunakan untuk memanipulasi data. Kita akan menggunakan beberapa operasi string dasar pada data.\n",
        "\n",
        "Mari kita coba dengan metode <code>upper</code>; metode ini mengubah karakter huruf kecil menjadi huruf besar:"
      ],
      "metadata": {
        "id": "jgZ3YofP4RTM"
      }
    },
    {
      "cell_type": "code",
      "source": [
        "# Ubah semua karakter dalam string menjadi huruf besar\n",
        "\n",
        "a = \"Thriller adalah album studio keenam\"\n",
        "print(\"sebelum upper:\", a)\n",
        "b = a.upper()\n",
        "print(\"Setelah upper:\", b)"
      ],
      "metadata": {
        "colab": {
          "base_uri": "https://localhost:8080/"
        },
        "id": "IJ3jOxQ04TFR",
        "outputId": "fda5da56-f337-4e9b-bba4-8e60450ec491"
      },
      "execution_count": 88,
      "outputs": [
        {
          "output_type": "stream",
          "name": "stdout",
          "text": [
            "sebelum upper: Thriller adalah album studio keenam\n",
            "Setelah upper: THRILLER ADALAH ALBUM STUDIO KEENAM\n"
          ]
        }
      ]
    },
    {
      "cell_type": "code",
      "source": [
        "# Ubah semua karakter dalam string menjadi huruf kecil\n",
        "a = \"KIENA MOTOR ADALAH YANG TERBAIK\"\n",
        "print(\"Sebelum lebih kecil:\", a)\n",
        "b = a.lower()\n",
        "print(\"Setelah lebih kecil:\", b)"
      ],
      "metadata": {
        "colab": {
          "base_uri": "https://localhost:8080/"
        },
        "id": "ep-wvkOI4hhv",
        "outputId": "080f4adc-b5b0-4306-a0de-89a4b8ae4753"
      },
      "execution_count": 89,
      "outputs": [
        {
          "output_type": "stream",
          "name": "stdout",
          "text": [
            "Sebelum lebih kecil: KIENA MOTOR ADALAH YANG TERBAIK\n",
            "Setelah lebih kecil: kiena motor adalah yang terbaik\n"
          ]
        }
      ]
    },
    {
      "cell_type": "code",
      "source": [
        "# Metode replace mengganti segmen string, yaitu substring dengan string baru\n",
        "\n",
        "a = \"kiena motor adalah yang terbaik\"\n",
        "b = a.replace('kiena', 'jamet')\n",
        "b"
      ],
      "metadata": {
        "colab": {
          "base_uri": "https://localhost:8080/",
          "height": 35
        },
        "id": "W6Wv5nBq4n_a",
        "outputId": "76d4dac2-8f5e-4f4e-84a6-3d1ee6812a09"
      },
      "execution_count": 90,
      "outputs": [
        {
          "output_type": "execute_result",
          "data": {
            "text/plain": [
              "'jamet motor adalah yang terbaik'"
            ],
            "application/vnd.google.colaboratory.intrinsic+json": {
              "type": "string"
            }
          },
          "metadata": {},
          "execution_count": 90
        }
      ]
    },
    {
      "cell_type": "code",
      "source": [
        "# Ganti substring lama dengan substring target baru dengan menghapus beberapa tanda baca.\n",
        "\n",
        "a = \"Halo! Kiena Motor: 11 karakter.\"\n",
        "print(a)\n",
        "b = a.replace('!','').replace(':','').replace('.','')\n",
        "print(b)"
      ],
      "metadata": {
        "colab": {
          "base_uri": "https://localhost:8080/"
        },
        "id": "QrYE4ChK41Wl",
        "outputId": "a00c5686-9e61-4b5e-ba09-786092eb9b2d"
      },
      "execution_count": 91,
      "outputs": [
        {
          "output_type": "stream",
          "name": "stdout",
          "text": [
            "Halo! Kiena Motor: 11 karakter.\n",
            "Halo Kiena Motor 11 karakter\n"
          ]
        }
      ]
    },
    {
      "cell_type": "code",
      "source": [
        "# Temukan substring di dalam string. Hanya indeks dari elemen pertama substring dalam string yang akan menjadi keluaran\n",
        "\n",
        "nama = \"Kiena Motor\"\n",
        "nama.find('en')"
      ],
      "metadata": {
        "colab": {
          "base_uri": "https://localhost:8080/"
        },
        "id": "oUcAFsE45E6j",
        "outputId": "160f87a7-149c-41cc-c0bf-2b2dc2977767"
      },
      "execution_count": 92,
      "outputs": [
        {
          "output_type": "execute_result",
          "data": {
            "text/plain": [
              "2"
            ]
          },
          "metadata": {},
          "execution_count": 92
        }
      ]
    },
    {
      "cell_type": "code",
      "source": [
        "# Temukan substring di dalam string.\n",
        "\n",
        "nama.find('ena')"
      ],
      "metadata": {
        "colab": {
          "base_uri": "https://localhost:8080/"
        },
        "id": "wgSRtYVT5JTy",
        "outputId": "9f5d62fd-ca26-4055-bde6-12db0a3f6bdc"
      },
      "execution_count": 93,
      "outputs": [
        {
          "output_type": "execute_result",
          "data": {
            "text/plain": [
              "2"
            ]
          },
          "metadata": {},
          "execution_count": 93
        }
      ]
    },
    {
      "cell_type": "code",
      "source": [
        "# Jika tidak dapat menemukan substring dalam string\n",
        "\n",
        "nama.find('Jasdfasdasdf')"
      ],
      "metadata": {
        "colab": {
          "base_uri": "https://localhost:8080/"
        },
        "id": "py3NzFPK5dSE",
        "outputId": "88e95023-ee34-4377-9465-90da3a1af8e8"
      },
      "execution_count": 94,
      "outputs": [
        {
          "output_type": "execute_result",
          "data": {
            "text/plain": [
              "-1"
            ]
          },
          "metadata": {},
          "execution_count": 94
        }
      ]
    },
    {
      "cell_type": "code",
      "source": [
        "#Pisahkan substring menjadi daftar\n",
        "nama = \"Kiena Motor\"\n",
        "split_string = (nama.split())\n",
        "split_string"
      ],
      "metadata": {
        "colab": {
          "base_uri": "https://localhost:8080/"
        },
        "id": "iAYAm7bV5joV",
        "outputId": "d566dbb8-b4bd-4ae8-8f58-d5e8076fe4e3"
      },
      "execution_count": 96,
      "outputs": [
        {
          "output_type": "execute_result",
          "data": {
            "text/plain": [
              "['Kiena', 'Motor']"
            ]
          },
          "metadata": {},
          "execution_count": 96
        }
      ]
    },
    {
      "cell_type": "code",
      "source": [],
      "metadata": {
        "id": "BVlL9G1v7fjp"
      },
      "execution_count": null,
      "outputs": []
    },
    {
      "cell_type": "markdown",
      "source": [
        "### RegEx\n",
        "\n",
        "Dalam Python, RegEx (kependekan dari Regular Expression) adalah alat untuk mencocokkan dan menangani string.\n",
        "\n",
        "Modul RegEx ini menyediakan beberapa fungsi untuk bekerja dengan ekspresi reguler, termasuk <code>search, split, findall, dan sub</code>.\n",
        "\n",
        "Python menyediakan modul bawaan yang disebut re, yang memungkinkan Anda bekerja dengan ekspresi reguler. Pertama, impor modul <code>re</code>"
      ],
      "metadata": {
        "id": "iQpmDQVR7j6K"
      }
    },
    {
      "cell_type": "code",
      "source": [
        "import re"
      ],
      "metadata": {
        "id": "LfJk84VI73bH"
      },
      "execution_count": 97,
      "outputs": []
    },
    {
      "cell_type": "code",
      "source": [
        "s1 = \"Kiena Motor adalah yang terbaik\"\n",
        "\n",
        "# Tentukan pola yang akan dicari\n",
        "pattern = r\"Motor\"\n",
        "\n",
        "# Gunakan fungsi search() untuk mencari pola dalam string\n",
        "hasil = re.search(pattern, s1)\n",
        "\n",
        "# Periksa apakah kecocokan ditemukan\n",
        "if hasil:\n",
        "    print(\"Kecocokan ditemukan!\")\n",
        "else:\n",
        "    print(\"Kecocokan tidak ditemukan.\")"
      ],
      "metadata": {
        "colab": {
          "base_uri": "https://localhost:8080/"
        },
        "id": "fxR55NWQ759o",
        "outputId": "04aa4807-f424-4713-b040-c08b2c7c58e0"
      },
      "execution_count": 99,
      "outputs": [
        {
          "output_type": "stream",
          "name": "stdout",
          "text": [
            "Kecocokan ditemukan!\n"
          ]
        }
      ]
    },
    {
      "cell_type": "markdown",
      "source": [
        "Regular expressions (RegEx) are patterns used to match and manipulate strings of text. There are several special sequences in RegEx that can be used to match specific characters or patterns.\n",
        "\n",
        "| Special Sequence | Meaning                 | \tExample             |\n",
        "| -----------  | ----------------------- | ----------------------|\n",
        "| \\d|Matches any digit character (0-9)|\"123\" matches \"\\d\\d\\d\"|\n",
        "|\\D|Matches any non-digit character|\"hello\" matches \"\\D\\D\\D\\D\\D\"|\n",
        "|\\w|Matches any word character (a-z, A-Z, 0-9, and _)|\"hello_world\" matches \"\\w\\w\\w\\w\\w\\w\\w\\w\\w\"|\n",
        "|\\W|Matches any non-word character|\t\"@#$%\" matches \"\\W\\W\\W\\W\"|\n",
        "|\\s|Matches any whitespace character (space, tab, newline, etc.)|\"hello world\" matches \"\\w\\s\\w\\w\\w\\w\\w\"|\n",
        "|\\S|Matches any non-whitespace character|\"hello_world\" matches \"\\S\\S\\S\\S\\S\\S\\S\\S\\S\"|\n",
        "|\\b|Matches the boundary between a word character and a non-word character|\"cat\" matches \"\\bcat\\b\" in \"The cat sat on the mat\"|\n",
        "|\\B|Matches any position that is not a word boundary|\"cat\" matches \"\\Bcat\\B\" in \"category\" but not in \"The cat sat on the mat\"|"
      ],
      "metadata": {
        "id": "YKe2oHVp8Rbc"
      }
    },
    {
      "cell_type": "code",
      "source": [
        "pattern = r\"\\d\\d\\d\\d\\d\\d\\d\\d\\d\\d\"  # Matches any ten consecutive digits\n",
        "text = \"My Phone number is 1234567890\"\n",
        "match = re.search(pattern, text)\n",
        "\n",
        "if match:\n",
        "    print(\"Phone number found:\", match.group())\n",
        "else:\n",
        "    print(\"No match\")"
      ],
      "metadata": {
        "colab": {
          "base_uri": "https://localhost:8080/"
        },
        "id": "PkT_myvA8eGz",
        "outputId": "180e05ce-1f06-47cf-cd52-81b035b61d2d"
      },
      "execution_count": 100,
      "outputs": [
        {
          "output_type": "stream",
          "name": "stdout",
          "text": [
            "Phone number found: 1234567890\n",
            "Phone number found: 1234567890\n"
          ]
        }
      ]
    },
    {
      "cell_type": "code",
      "source": [
        "pattern = r\"\\W\"  # Matches any non-word character\n",
        "text = \"Hello, world!\"\n",
        "matches = re.findall(pattern, text)\n",
        "\n",
        "print(\"Matches:\", matches)"
      ],
      "metadata": {
        "colab": {
          "base_uri": "https://localhost:8080/"
        },
        "id": "zYQ1RR4Q8kn2",
        "outputId": "c38561fd-afb5-487a-9c82-77657cfd173b"
      },
      "execution_count": 102,
      "outputs": [
        {
          "output_type": "stream",
          "name": "stdout",
          "text": [
            "Matches: [',', ' ', '!']\n"
          ]
        }
      ]
    },
    {
      "cell_type": "code",
      "source": [
        "s2 = \"Michael Jackson adalah seorang penyanyi dan dikenal sebagai 'Raja Pop'\"\n",
        "\n",
        "\n",
        "# Gunakan fungsi findall() untuk menemukan semua kemunculan \"as\" dalam string\n",
        "result = re.findall(\"as\", s2)\n",
        "\n",
        "# Cetak daftar kata-kata yang cocok\n",
        "print(hasil)"
      ],
      "metadata": {
        "colab": {
          "base_uri": "https://localhost:8080/"
        },
        "id": "orLkJvnd8mXW",
        "outputId": "3026e650-358b-4d2a-b7ca-b9be92af0ff0"
      },
      "execution_count": 106,
      "outputs": [
        {
          "output_type": "stream",
          "name": "stdout",
          "text": [
            "<re.Match object; span=(6, 11), match='Motor'>\n"
          ]
        }
      ]
    },
    {
      "cell_type": "code",
      "source": [
        "# Gunakan fungsi split untuk memisahkan string dengan \"\\s\"\n",
        "split_array = re.split(\"\\s\", s2)\n",
        "\n",
        "# Larik split_array berisi semua substring, dipisah dengan karakter spasi\n",
        "print(split_array)"
      ],
      "metadata": {
        "colab": {
          "base_uri": "https://localhost:8080/"
        },
        "id": "0GdXwF_U8qY2",
        "outputId": "f747a8be-7294-4fcc-d061-5695e9d161b4"
      },
      "execution_count": 107,
      "outputs": [
        {
          "output_type": "stream",
          "name": "stdout",
          "text": [
            "['Michael', 'Jackson', 'adalah', 'seorang', 'penyanyi', 'dan', 'dikenal', 'sebagai', \"'Raja\", \"Pop'\"]\n"
          ]
        }
      ]
    },
    {
      "cell_type": "code",
      "source": [
        "# Tentukan pola ekspresi reguler yang akan dicari\n",
        "pattern = r\"Raja Pop\"\n",
        "\n",
        "# Tentukan string pengganti\n",
        "replacement = \"legenda\"\n",
        "\n",
        "# Gunakan fungsi sub untuk mengganti pola dengan string pengganti\n",
        "new_string = re.sub(pattern, replacement, s2, flags = re.IGNORECASE)\n",
        "\n",
        "# New_string berisi string asli dengan pola yang digantikan oleh string pengganti\n",
        "print(new_string)"
      ],
      "metadata": {
        "colab": {
          "base_uri": "https://localhost:8080/"
        },
        "id": "SXlwQF_684bD",
        "outputId": "501abea0-fd9a-442e-ba87-728545932c94"
      },
      "execution_count": 108,
      "outputs": [
        {
          "output_type": "stream",
          "name": "stdout",
          "text": [
            "Michael Jackson adalah seorang penyanyi dan dikenal sebagai 'legenda'\n"
          ]
        }
      ]
    },
    {
      "cell_type": "markdown",
      "source": [
        "### Kuis tentang String"
      ],
      "metadata": {
        "id": "VLyUUwoD9Cuf"
      }
    },
    {
      "cell_type": "code",
      "source": [
        "a = \"1\"\n",
        "b = \"2\"\n",
        "c = a + b\n",
        "c"
      ],
      "metadata": {
        "colab": {
          "base_uri": "https://localhost:8080/",
          "height": 35
        },
        "id": "IJ01WU4m9D-2",
        "outputId": "491403a8-777a-452d-b437-be86b5d8bf13"
      },
      "execution_count": 114,
      "outputs": [
        {
          "output_type": "execute_result",
          "data": {
            "text/plain": [
              "'12'"
            ],
            "application/vnd.google.colaboratory.intrinsic+json": {
              "type": "string"
            }
          },
          "metadata": {},
          "execution_count": 114
        }
      ]
    },
    {
      "cell_type": "code",
      "source": [
        "# Slicing 3 karakter pertama\n",
        "d = \"ABCDEFG\"\n",
        "print(d[0:3])\n",
        "\n",
        "\n",
        "c= d[:3]\n",
        "\n",
        "c"
      ],
      "metadata": {
        "colab": {
          "base_uri": "https://localhost:8080/",
          "height": 52
        },
        "id": "IYSLjzip9wzM",
        "outputId": "9f72bc78-742c-4b26-f016-bc09d4959dc7"
      },
      "execution_count": 120,
      "outputs": [
        {
          "output_type": "stream",
          "name": "stdout",
          "text": [
            "ABC\n"
          ]
        },
        {
          "output_type": "execute_result",
          "data": {
            "text/plain": [
              "'ABC'"
            ],
            "application/vnd.google.colaboratory.intrinsic+json": {
              "type": "string"
            }
          },
          "metadata": {},
          "execution_count": 120
        }
      ]
    },
    {
      "cell_type": "code",
      "source": [
        "# Stride tiap 2 karakter\n",
        "\n",
        "e = 'clocrkr1e1c1t'\n",
        "e[::2]"
      ],
      "metadata": {
        "colab": {
          "base_uri": "https://localhost:8080/",
          "height": 35
        },
        "id": "y65dfLJf-Vr5",
        "outputId": "c6697556-85a9-4bc5-93b7-27323318771c"
      },
      "execution_count": 121,
      "outputs": [
        {
          "output_type": "execute_result",
          "data": {
            "text/plain": [
              "'correct'"
            ],
            "application/vnd.google.colaboratory.intrinsic+json": {
              "type": "string"
            }
          },
          "metadata": {},
          "execution_count": 121
        }
      ]
    },
    {
      "cell_type": "code",
      "source": [
        "# Print backslash\n",
        "print(\"\\\\\\\\\\\\\")\n",
        "\n",
        "print(r\"\\ \")"
      ],
      "metadata": {
        "colab": {
          "base_uri": "https://localhost:8080/"
        },
        "id": "ZhR7Wpnt-lq6",
        "outputId": "1f5d3d6e-2fe5-4807-b1b7-b5cf9e9e9812"
      },
      "execution_count": 123,
      "outputs": [
        {
          "output_type": "stream",
          "name": "stdout",
          "text": [
            "\\\\\\\n",
            "\\ \n"
          ]
        }
      ]
    },
    {
      "cell_type": "code",
      "source": [
        "# Konversi ke uppercase\n",
        "\n",
        "f = \"You are wrong\"\n",
        "f.upper()"
      ],
      "metadata": {
        "colab": {
          "base_uri": "https://localhost:8080/",
          "height": 35
        },
        "id": "yfUVJ5u9-qhU",
        "outputId": "428f5f07-875c-401e-93b6-22bfeb52b10e"
      },
      "execution_count": 124,
      "outputs": [
        {
          "output_type": "execute_result",
          "data": {
            "text/plain": [
              "'YOU ARE WRONG'"
            ],
            "application/vnd.google.colaboratory.intrinsic+json": {
              "type": "string"
            }
          },
          "metadata": {},
          "execution_count": 124
        }
      ]
    },
    {
      "cell_type": "code",
      "source": [
        "# Konversi ke lowercase\n",
        "\n",
        "f2=\"YOU ARE RIGHT\"\n",
        "f2.lower()"
      ],
      "metadata": {
        "colab": {
          "base_uri": "https://localhost:8080/",
          "height": 35
        },
        "id": "Scc9enG7-0yn",
        "outputId": "e7c03ab3-68b6-4d24-e922-ae38f2271e52"
      },
      "execution_count": 125,
      "outputs": [
        {
          "output_type": "execute_result",
          "data": {
            "text/plain": [
              "'you are right'"
            ],
            "application/vnd.google.colaboratory.intrinsic+json": {
              "type": "string"
            }
          },
          "metadata": {},
          "execution_count": 125
        }
      ]
    },
    {
      "cell_type": "code",
      "source": [
        "# Find snow\n",
        "\n",
        "\n",
        "g = \"Mary had a little lamb Little lamb, little lamb Mary had a little lamb \\\n",
        "Its fleece was white as snow And everywhere that Mary went Mary went, Mary went \\\n",
        "Everywhere that Mary went The lamb was sure to go\"\n",
        "\n",
        "g.find('snow')"
      ],
      "metadata": {
        "colab": {
          "base_uri": "https://localhost:8080/"
        },
        "id": "GYflurGG--Xh",
        "outputId": "0e367905-dcb2-456e-b289-b5721ef257e0"
      },
      "execution_count": 128,
      "outputs": [
        {
          "output_type": "execute_result",
          "data": {
            "text/plain": [
              "95"
            ]
          },
          "metadata": {},
          "execution_count": 128
        }
      ]
    },
    {
      "cell_type": "code",
      "source": [
        "# Replace marry dengan Kiena\n",
        "g.replace('Mary', 'Kiena')"
      ],
      "metadata": {
        "colab": {
          "base_uri": "https://localhost:8080/",
          "height": 52
        },
        "id": "AvIwF8_4_Yyz",
        "outputId": "e2915f9c-d971-400e-fba3-9e85608e0f49"
      },
      "execution_count": 129,
      "outputs": [
        {
          "output_type": "execute_result",
          "data": {
            "text/plain": [
              "'Kiena had a little lamb Little lamb, little lamb Kiena had a little lamb Its fleece was white as snow And everywhere that Kiena went Kiena went, Kiena went Everywhere that Kiena went The lamb was sure to go'"
            ],
            "application/vnd.google.colaboratory.intrinsic+json": {
              "type": "string"
            }
          },
          "metadata": {},
          "execution_count": 129
        }
      ]
    },
    {
      "cell_type": "code",
      "source": [
        "# Replace sub-string , dengan .\n",
        "g.replace(',','.')"
      ],
      "metadata": {
        "colab": {
          "base_uri": "https://localhost:8080/",
          "height": 35
        },
        "id": "77m_zhsN_a8n",
        "outputId": "8e38e8fd-5798-4589-d3f5-612104d68871"
      },
      "execution_count": 130,
      "outputs": [
        {
          "output_type": "execute_result",
          "data": {
            "text/plain": [
              "'Mary had a little lamb Little lamb. little lamb Mary had a little lamb Its fleece was white as snow And everywhere that Mary went Mary went. Mary went Everywhere that Mary went The lamb was sure to go'"
            ],
            "application/vnd.google.colaboratory.intrinsic+json": {
              "type": "string"
            }
          },
          "metadata": {},
          "execution_count": 130
        }
      ]
    },
    {
      "cell_type": "code",
      "source": [
        "# Split sub-string\n",
        "g.split()"
      ],
      "metadata": {
        "colab": {
          "base_uri": "https://localhost:8080/"
        },
        "id": "Zcr4WV_F_kqE",
        "outputId": "f82f6615-3d16-4307-c4e8-f6b3576c819c"
      },
      "execution_count": 131,
      "outputs": [
        {
          "output_type": "execute_result",
          "data": {
            "text/plain": [
              "['Mary',\n",
              " 'had',\n",
              " 'a',\n",
              " 'little',\n",
              " 'lamb',\n",
              " 'Little',\n",
              " 'lamb,',\n",
              " 'little',\n",
              " 'lamb',\n",
              " 'Mary',\n",
              " 'had',\n",
              " 'a',\n",
              " 'little',\n",
              " 'lamb',\n",
              " 'Its',\n",
              " 'fleece',\n",
              " 'was',\n",
              " 'white',\n",
              " 'as',\n",
              " 'snow',\n",
              " 'And',\n",
              " 'everywhere',\n",
              " 'that',\n",
              " 'Mary',\n",
              " 'went',\n",
              " 'Mary',\n",
              " 'went,',\n",
              " 'Mary',\n",
              " 'went',\n",
              " 'Everywhere',\n",
              " 'that',\n",
              " 'Mary',\n",
              " 'went',\n",
              " 'The',\n",
              " 'lamb',\n",
              " 'was',\n",
              " 'sure',\n",
              " 'to',\n",
              " 'go']"
            ]
          },
          "metadata": {},
          "execution_count": 131
        }
      ]
    },
    {
      "cell_type": "code",
      "source": [
        "# Temukan empat karakter digit yang berurutan menggunakan fungsi \\d dan search()\n",
        "s3 = \"House number- 1105\"\n",
        "\n",
        "# Use the search() function to search for the \"\\d\" in the string\n",
        "result = re.search(\"\\d\", s3)\n",
        "\n",
        "# Check if a match was found\n",
        "if result:\n",
        "    print(\"Digit found\")\n",
        "else:\n",
        "    print(\"Digit not found.\")"
      ],
      "metadata": {
        "colab": {
          "base_uri": "https://localhost:8080/"
        },
        "id": "Gfe1s8RK_p45",
        "outputId": "0bd8e7dd-ed4f-4095-c63d-f467be4a0bf4"
      },
      "execution_count": 132,
      "outputs": [
        {
          "output_type": "stream",
          "name": "stdout",
          "text": [
            "Digit found\n"
          ]
        }
      ]
    },
    {
      "cell_type": "code",
      "source": [
        "# Pada string str1, ganti sub-string fox dengan bear menggunakan fungsi sub()\n",
        "str1= \"The quick brown fox jumps over the lazy dog.\"\n",
        "\n",
        "# Use re.sub() to replace \"fox\" with \"bear\"\n",
        "new_str1 = re.sub(r\"fox\", \"bear\", str1)\n",
        "\n",
        "print(new_str1)"
      ],
      "metadata": {
        "colab": {
          "base_uri": "https://localhost:8080/"
        },
        "id": "qRHLhfKP_830",
        "outputId": "b95a0c35-f56e-4e01-bf9d-e0dd14ad4050"
      },
      "execution_count": 134,
      "outputs": [
        {
          "output_type": "stream",
          "name": "stdout",
          "text": [
            "The quick brown bear jumps over the lazy dog.\n"
          ]
        }
      ]
    },
    {
      "cell_type": "code",
      "source": [
        "# Dalam string str2 temukan semua kemunculan woo menggunakan fungsi findall()\n",
        "str2= \"How much wood would a woodchuck chuck, if a woodchuck could chuck wood?\"\n",
        "\n",
        "# Use re.findall() to find all occurrences of \"woo\"\n",
        "matches = re.findall(r\"woo\", str2)\n",
        "\n",
        "print(matches)"
      ],
      "metadata": {
        "colab": {
          "base_uri": "https://localhost:8080/"
        },
        "id": "auSlBf-9Advn",
        "outputId": "0fea20f6-cd2f-48eb-a747-8b47974c7247"
      },
      "execution_count": 135,
      "outputs": [
        {
          "output_type": "stream",
          "name": "stdout",
          "text": [
            "['woo', 'woo', 'woo', 'woo']\n"
          ]
        }
      ]
    }
  ]
}